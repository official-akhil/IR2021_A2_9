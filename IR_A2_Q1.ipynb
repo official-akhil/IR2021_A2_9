{
  "nbformat": 4,
  "nbformat_minor": 0,
  "metadata": {
    "colab": {
      "name": "IR_Ass_2_Part_1.ipynb",
      "provenance": [],
      "collapsed_sections": [],
      "toc_visible": true
    },
    "kernelspec": {
      "name": "python3",
      "display_name": "Python 3"
    },
    "language_info": {
      "name": "python"
    }
  },
  "cells": [
    {
      "cell_type": "code",
      "metadata": {
        "colab": {
          "base_uri": "https://localhost:8080/"
        },
        "id": "9bkLOJf0plv2",
        "outputId": "bfb2affd-3927-4f35-cf1d-542ad5dd196b"
      },
      "source": [
        "from google.colab import drive\n",
        "drive.mount(\"/content/gdrive\")"
      ],
      "execution_count": null,
      "outputs": [
        {
          "output_type": "stream",
          "text": [
            "Mounted at /content/gdrive\n"
          ],
          "name": "stdout"
        }
      ]
    },
    {
      "cell_type": "code",
      "metadata": {
        "id": "OuW1dkMMpy4K"
      },
      "source": [
        "import os\n",
        "os.chdir('/content/gdrive/My Drive/InformationRetrieval/Assignment_1')"
      ],
      "execution_count": null,
      "outputs": []
    },
    {
      "cell_type": "code",
      "metadata": {
        "id": "zXWJVWlTp007",
        "colab": {
          "base_uri": "https://localhost:8080/"
        },
        "outputId": "c0124551-a735-48d2-b5b4-296a1affd69a"
      },
      "source": [
        "!pip install num2Words\n",
        "import nltk\n",
        "nltk.download('punkt')\n",
        "nltk.download('stopwords')\n",
        "nltk.download('wordnet')\n",
        "from nltk.corpus import stopwords\n",
        "from nltk.tokenize import word_tokenize\n",
        "from collections import Counter\n",
        "from num2words import num2words\n",
        "from nltk.stem import WordNetLemmatizer\n",
        "import os\n",
        "import string\n",
        "import numpy as np\n",
        "import copy\n",
        "import pandas as pd\n",
        "import pickle\n",
        "import re\n",
        "import math"
      ],
      "execution_count": null,
      "outputs": [
        {
          "output_type": "stream",
          "text": [
            "Collecting num2Words\n",
            "\u001b[?25l  Downloading https://files.pythonhosted.org/packages/eb/a2/ea800689730732e27711c41beed4b2a129b34974435bdc450377ec407738/num2words-0.5.10-py3-none-any.whl (101kB)\n",
            "\r\u001b[K     |███▎                            | 10kB 9.6MB/s eta 0:00:01\r\u001b[K     |██████▌                         | 20kB 8.8MB/s eta 0:00:01\r\u001b[K     |█████████▊                      | 30kB 9.0MB/s eta 0:00:01\r\u001b[K     |█████████████                   | 40kB 7.3MB/s eta 0:00:01\r\u001b[K     |████████████████▏               | 51kB 4.5MB/s eta 0:00:01\r\u001b[K     |███████████████████▍            | 61kB 4.3MB/s eta 0:00:01\r\u001b[K     |██████████████████████▋         | 71kB 4.8MB/s eta 0:00:01\r\u001b[K     |█████████████████████████▉      | 81kB 4.9MB/s eta 0:00:01\r\u001b[K     |█████████████████████████████   | 92kB 5.4MB/s eta 0:00:01\r\u001b[K     |████████████████████████████████| 102kB 3.7MB/s \n",
            "\u001b[?25hRequirement already satisfied: docopt>=0.6.2 in /usr/local/lib/python3.7/dist-packages (from num2Words) (0.6.2)\n",
            "Installing collected packages: num2Words\n",
            "Successfully installed num2Words-0.5.10\n",
            "[nltk_data] Downloading package punkt to /root/nltk_data...\n",
            "[nltk_data]   Unzipping tokenizers/punkt.zip.\n",
            "[nltk_data] Downloading package stopwords to /root/nltk_data...\n",
            "[nltk_data]   Unzipping corpora/stopwords.zip.\n",
            "[nltk_data] Downloading package wordnet to /root/nltk_data...\n",
            "[nltk_data]   Unzipping corpora/wordnet.zip.\n"
          ],
          "name": "stdout"
        }
      ]
    },
    {
      "cell_type": "markdown",
      "metadata": {
        "id": "ybnOexQWYROn"
      },
      "source": [
        "#Getting Folders"
      ]
    },
    {
      "cell_type": "code",
      "metadata": {
        "colab": {
          "base_uri": "https://localhost:8080/"
        },
        "id": "XHQ_ntJKp5tL",
        "outputId": "0e2ab678-0deb-436e-f843-cd261aab2a95"
      },
      "source": [
        "title = \"stories\"\n",
        "alpha = 0.3\n",
        "folders = [x[0] for x in os.walk(str(os.getcwd())+'/'+title+'/')]\n",
        "folders[0] = folders[0][:len(folders[0])-1]\n",
        "print(folders)"
      ],
      "execution_count": null,
      "outputs": [
        {
          "output_type": "stream",
          "text": [
            "['/content/gdrive/My Drive/InformationRetrieval/Assignment_1/stories', '/content/gdrive/My Drive/InformationRetrieval/Assignment_1/stories/FARNON', '/content/gdrive/My Drive/InformationRetrieval/Assignment_1/stories/SRE']\n"
          ],
          "name": "stdout"
        }
      ]
    },
    {
      "cell_type": "markdown",
      "metadata": {
        "id": "jSAhIP2zYa17"
      },
      "source": [
        "#Preparing Dataset "
      ]
    },
    {
      "cell_type": "code",
      "metadata": {
        "colab": {
          "base_uri": "https://localhost:8080/"
        },
        "id": "ZxQZtdSPUz_x",
        "outputId": "99ad0cd2-5b66-462e-bf0d-c9e5fdbb01ac"
      },
      "source": [
        "dataset = []\n",
        "c = False\n",
        "for i in folders:\n",
        "    file = open(i + \"/index.html\", 'r')\n",
        "    text = file.read().strip()\n",
        "    file.close()\n",
        "\n",
        "    file_name = re.findall('><A HREF=\"(.*)\">', text)\n",
        "    file_title = re.findall('<BR><TD> (.*)\\n', text)\n",
        "\n",
        "    if c == False:\n",
        "        file_name = file_name[2:]\n",
        "        c = True\n",
        "\n",
        "    # print(len(file_name), len(file_title))\n",
        "\n",
        "    for j in range(len(file_name)):\n",
        "        dataset.append((str(i) + \"/\" + str(file_name[j]), file_title[j]))\n",
        "\n",
        "# print(dataset)\n",
        "N = len (dataset)\n",
        "print(N)"
      ],
      "execution_count": null,
      "outputs": [
        {
          "output_type": "stream",
          "text": [
            "467\n"
          ],
          "name": "stdout"
        }
      ]
    },
    {
      "cell_type": "code",
      "metadata": {
        "id": "dwaXtwwoUdNr"
      },
      "source": [
        "# importing libraries\n",
        "import numpy as np\n",
        "import os\n",
        "import nltk\n",
        "from nltk.stem import PorterStemmer\n",
        "from nltk.tokenize import TweetTokenizer\n",
        "from natsort import natsorted\n",
        "import string\n",
        "lemmatizer = WordNetLemmatizer()"
      ],
      "execution_count": null,
      "outputs": []
    },
    {
      "cell_type": "code",
      "metadata": {
        "id": "ORIeWG_qabGm"
      },
      "source": [
        "def print_doc(id):\n",
        "    print(dataset[id])\n",
        "    file = open(dataset[id][0], 'r', encoding='cp1250')\n",
        "    text = file.read().strip()\n",
        "    file.close()\n",
        "    print(text)\n",
        "\n",
        "# Convert the text to lower case\n",
        "def convert_lower_case(data):\n",
        "    return np.char.lower(data)\n",
        "\n",
        "# Remove stopwords from tokens\n",
        "def remove_stop_words(data):\n",
        "    stop_words = stopwords.words('english')\n",
        "    words = word_tokenize(str(data))\n",
        "    new_text = \"\"\n",
        "    for w in words:\n",
        "        if w not in stop_words and len(w) > 1:\n",
        "            new_text = new_text + \" \" + w\n",
        "#     print(np.char.strip(new_text))\n",
        "    return np.char.strip(new_text)\n",
        "\n",
        "# Remove punctuation marks from tokens\n",
        "def remove_punctuation(data):\n",
        "    symbols = \"!\\\"#$%&()*+-./:;<=>?@[\\]^_`{|}~\\n\"\n",
        "    for i in range(len(symbols)):\n",
        "        data = np.char.replace(data, symbols[i], ' ')\n",
        "        data = np.char.replace(data, \"  \", \" \")\n",
        "    data = np.char.replace(data, ',', '')\n",
        "    return data\n",
        "\n",
        "def remove_apostrophe(data):\n",
        "    return np.char.replace(data, \"'\", \"\")\n",
        "\n",
        "def convert_numbers(data):\n",
        "    tokens = word_tokenize(str(data))\n",
        "    new_text = \"\"\n",
        "    for w in tokens:\n",
        "        try:\n",
        "            w = num2words(int(w))\n",
        "        except:\n",
        "            a = 0\n",
        "        new_text = new_text + \" \" + w\n",
        "    new_text = np.char.replace(new_text, \"-\", \" \")\n",
        "    return new_text\n",
        "\n",
        "def preprocess(data, query):\n",
        "    data = convert_lower_case(data)\n",
        "#     print(\"data2 =\",data)\n",
        "    data = remove_punctuation(data) #remove comma seperately\n",
        "#     print(\"data3 =\",data)\n",
        "    data = remove_apostrophe(data)\n",
        "#     print(\"data4 =\",data)\n",
        "    data = remove_stop_words(data)\n",
        "#     print(\"data5 =\",data)\n",
        "    data = convert_numbers(data)\n",
        "    return data"
      ],
      "execution_count": null,
      "outputs": []
    },
    {
      "cell_type": "code",
      "metadata": {
        "id": "x5Pzl4kJaLeL"
      },
      "source": [
        "test_before = \"DING DONG! The melancholy tintinabulation\""
      ],
      "execution_count": null,
      "outputs": []
    },
    {
      "cell_type": "code",
      "metadata": {
        "colab": {
          "base_uri": "https://localhost:8080/"
        },
        "id": "VQqs45bdaYzY",
        "outputId": "becf414d-c716-4118-cea8-a342fd8084f9"
      },
      "source": [
        "print('Before Preprocessing : {}'.format(test_before))\n",
        "print('After Preprocessing : {}'.format(preprocess(test_before, False)))"
      ],
      "execution_count": null,
      "outputs": [
        {
          "output_type": "stream",
          "text": [
            "Before Preprocessing : DING DONG! The melancholy tintinabulation\n",
            "After Preprocessing :  ding dong melancholy tintinabulation\n"
          ],
          "name": "stdout"
        }
      ]
    },
    {
      "cell_type": "code",
      "metadata": {
        "colab": {
          "base_uri": "https://localhost:8080/"
        },
        "id": "4lpzGjWNWQnh",
        "outputId": "00508ffb-0d79-48b4-e3d0-0b12183f735a"
      },
      "source": [
        "# Initialize the file no.\n",
        "fileno = 0  \n",
        "# Initialize the dictionary.\n",
        "pos_index = {}  \n",
        "# Initialize the file mapping (fileno -> file name).\n",
        "file_map = {}\n",
        "doc = 0\n",
        "for i in dataset:\n",
        "    file = open(i[0], 'r', encoding='cp1250', errors='ignore')\n",
        "    text = file.read().strip()\n",
        "    file.close()\n",
        "    preprocessed_text = preprocess(text, False)\n",
        "\n",
        "    if doc % 100 == 0:\n",
        "        print(doc)\n",
        "\n",
        "    tokens = word_tokenize(str(preprocessed_text))\n",
        "\n",
        "\n",
        "    for pos, term in enumerate(tokens):\n",
        "      \n",
        "      term = lemmatizer.lemmatize(term)\n",
        "      \n",
        "      if term in pos_index:\n",
        "        pos_index[term][0] = pos_index[term][0]+1\n",
        "\n",
        "        if(fileno in pos_index[term][1]):\n",
        "          pos_index[term][1][fileno].append(pos)\n",
        "        else:\n",
        "          pos_index[term][1][fileno] = [pos]\n",
        "        \n",
        "      else:\n",
        "        pos_index[term] = []\n",
        "        pos_index[term].append(1)\n",
        "        pos_index[term].append({})\n",
        "        pos_index[term][1][fileno] = [pos]\n",
        "    \n",
        "    file_map[fileno] = i[1]\n",
        "    fileno = fileno+1\n",
        "\n",
        "    doc = doc+1"
      ],
      "execution_count": null,
      "outputs": [
        {
          "output_type": "stream",
          "text": [
            "0\n",
            "100\n",
            "200\n",
            "300\n",
            "400\n"
          ],
          "name": "stdout"
        }
      ]
    },
    {
      "cell_type": "code",
      "metadata": {
        "id": "1HP-Z4vcqm_K"
      },
      "source": [
        "# file_name = \"positional_index.pkl\"\n",
        "\n",
        "# open_file = open(file_name, \"wb\")\n",
        "# pickle.dump(pos_index, open_file)\n",
        "# open_file.close()"
      ],
      "execution_count": null,
      "outputs": []
    },
    {
      "cell_type": "code",
      "metadata": {
        "id": "5hma6TOQqzex"
      },
      "source": [
        "file_name = \"positional_index.pkl\"\n",
        "open_file = open(file_name, \"rb\")\n",
        "pos_index = pickle.load(open_file)\n",
        "open_file.close()"
      ],
      "execution_count": null,
      "outputs": []
    },
    {
      "cell_type": "code",
      "metadata": {
        "id": "wlv2cYBjzrO_",
        "colab": {
          "base_uri": "https://localhost:8080/"
        },
        "outputId": "bc7ffd5c-655c-473d-dc12-bff9a6feffeb"
      },
      "source": [
        "print(pos_index['good'])"
      ],
      "execution_count": null,
      "outputs": [
        {
          "output_type": "stream",
          "text": [
            "[2409, {0: [234, 676], 1: [30, 40, 85, 132, 238, 305], 6: [853], 7: [800, 895], 8: [338, 739, 741, 750, 1009, 1686, 1732, 1948, 2113, 2308, 2435, 2528, 2826], 9: [517], 11: [555, 915, 1232, 1624, 1828, 1835, 1884, 1901, 2032, 2835], 13: [81, 110, 337, 696], 14: [990, 2519], 16: [1433, 1468, 1558, 1560, 1664, 1990, 2563, 3416, 3541, 3903, 3961], 17: [202], 18: [72, 174, 387, 428, 484, 495, 563, 851, 1347, 1389, 1408, 1439, 1460, 1535, 1808, 2167, 2809, 3460, 3464, 3497], 19: [548, 829], 20: [1442, 1578, 1860, 2075, 3296, 3469, 3631, 3666, 3928], 22: [1091, 1146], 23: [612], 26: [42, 135, 1336, 1444, 1905, 2112, 2563, 3078, 3341, 3386, 3877, 4447, 4772, 4829, 4851, 5803, 6097, 6559, 6937, 7200, 7893, 8247, 8255, 8612, 9828, 10237, 10550, 10557, 10566, 11085, 11645, 11662, 11676, 11695, 12120, 12245, 12345, 12556, 12558, 12571, 12607, 12623, 12648, 12746, 14068, 14696, 14825, 15517], 27: [781, 819, 1569, 2123, 2226, 3102, 3281, 3358, 4055, 4057, 4077, 4085, 4445, 4469, 4755, 5701], 31: [711, 932, 1057, 1160, 1333], 32: [64], 33: [220, 592, 614, 911, 1602, 1908, 1911, 1977, 2037, 2131], 35: [160], 36: [124, 136, 996, 1018, 1042], 39: [149, 376, 390, 622, 678, 703, 2084, 2233, 2653, 2691, 3039, 3343, 3698], 40: [367, 867, 970, 1560, 1672, 2662, 2692, 3612, 3846, 4182, 4423], 41: [344, 806, 1273, 1699, 1700, 3531, 4537, 4541, 4546, 4559, 4901, 5187, 5439, 6048, 6526, 6607, 6732, 7491, 8427, 8470, 9885, 12408, 13370], 42: [102], 43: [37], 44: [402, 441, 468, 483, 503, 663, 730, 813, 992, 998], 45: [99], 46: [99], 47: [2800, 8223, 8345], 48: [1217, 1663, 1790, 2936, 3126, 3325], 49: [378, 545, 591], 50: [419, 428, 446, 567, 680, 687, 737, 997, 1073, 2342, 2400, 3369, 3847, 4049, 4230, 4277, 4310, 4831, 4878, 4952, 4959, 5121, 5519, 6044, 6416, 6923, 7024, 7140, 7282, 7290, 7313, 7433, 7476, 7558, 7659, 7740, 7870, 8158, 8575, 9018], 53: [100, 176, 210], 54: [34, 390], 56: [236, 437, 606, 923, 1019], 57: [358, 454, 495, 704], 58: [1218, 1441, 1820, 1859, 2302, 3402, 3479, 4792, 5776, 6861], 59: [972, 1047, 1184, 1445, 2490, 2590, 3609], 60: [972, 1047, 1184, 1445, 2490, 2590, 3609], 61: [260, 1001, 3236, 3696], 63: [750], 64: [40], 66: [370, 543], 68: [542, 719, 1240, 1361], 69: [432, 450, 640], 70: [467], 71: [733], 72: [398, 708, 1312, 1365], 73: [217, 252, 271, 293, 655, 934, 956, 970, 995, 1002, 1051, 1052, 1065, 1086], 74: [333], 75: [116, 475, 510], 76: [433, 840, 1214, 2119, 2230, 2238, 2420, 2421, 2441, 2460, 2462, 2473, 2883, 3490, 3536, 4063, 4562, 6173, 6547, 6636, 7128, 7169, 7216, 7578, 7860, 7884, 7892, 8195, 8740, 11085, 11280, 11820, 12009, 12073, 12242, 12888, 12979, 13138, 13148, 13432, 13460], 77: [698, 743, 903, 907, 932, 973, 1015, 1032, 1044, 1140, 1463, 1553, 1859, 1919, 2003, 2010, 2100, 2103, 2112, 2115, 2220, 2587, 2598, 3264, 3643, 4384, 4422, 7171, 7355, 7451, 7643, 7645, 8259, 8430, 8453, 10129, 10181, 10405, 10632, 10723, 11998], 78: [2133, 2168, 2219, 2648, 2751, 2756, 2759, 3393, 3651, 3654, 3656, 4087, 4252, 4620, 4850, 5736, 5819, 5937, 6254, 6580, 7399, 7410, 7436, 7462, 7922, 8081, 8132], 79: [240, 552, 683, 1095, 1297, 1591, 1593, 1661, 2175, 2677, 3117, 3399, 4173, 4201, 4236, 4722, 4955], 81: [58], 83: [268, 749], 84: [440, 1232], 85: [290, 385, 779], 86: [153], 87: [95, 153, 214, 272, 587, 755, 880, 1401, 1850, 1946, 1956, 2020, 2965, 2994, 3262, 3527, 3534, 3548, 3628, 4057, 4486], 88: [55], 90: [123], 91: [247], 92: [406, 1033, 1346, 1379, 1755, 2052, 2055, 2123, 3279, 3369], 93: [116, 387, 468, 533, 587, 695, 907, 1331, 1402, 1761, 1785, 1863], 95: [142, 514, 566, 935, 1001, 1068], 96: [289, 311, 319, 381, 701], 97: [4558, 4941, 11446, 12387, 14235], 98: [1331, 1336], 99: [176, 184, 227, 318, 620, 673], 100: [444, 1057, 1091, 1573, 1692], 104: [62, 108], 106: [360, 398, 485, 906, 959, 1709], 107: [426, 1657, 1779, 1953, 2854, 3085, 3090, 3274, 3632, 3719, 3851], 109: [249], 110: [140, 672], 111: [14], 112: [206, 1185, 1646, 1665], 113: [28], 114: [363], 115: [97], 116: [141, 424, 427, 849, 893, 1051, 1672, 2134], 117: [4, 17, 19, 47], 118: [180, 2374, 2422, 2586, 2604, 2751, 3306, 4032, 4087, 5472, 6418, 6430, 6557, 10043, 10575, 12252, 12885, 13243], 119: [180, 2374, 2422, 2586, 2604, 2751, 3306, 4032, 4087, 5472, 6418, 6430, 6557, 10043, 10575, 12252, 12885, 13243], 120: [112, 310, 1778, 2142, 2150, 3547], 122: [75, 137], 123: [1066, 1191, 2148, 2667, 2944, 3125, 3130, 5070, 5081, 5635, 5637, 5713, 5986], 125: [64, 95, 184, 233, 293, 351], 126: [587, 628, 926, 927, 1386, 2365, 2726, 2771, 2901, 2987, 3043, 3309, 3926, 4468, 4643, 4799, 5081, 5658, 6861, 7075, 7685, 8393, 8398, 8530, 9149, 9743, 11376, 11448, 12495, 12661, 12720, 12941, 13470, 13509, 14378, 14535, 15087, 15115, 15918, 17965, 18664, 18879, 19916, 20572, 20828, 22107, 22786, 22880, 23680, 24412, 24647, 25342, 25661, 25739, 27069, 27221, 28260, 28338, 28969, 29222, 29363, 29918, 30917, 31253, 31387, 31701, 31808, 31895, 32562, 32937, 33196, 33307, 33487, 33777, 33900, 34037, 34060, 34164, 35731, 36945, 38151, 38156, 38241, 38318, 38773], 127: [181, 183, 595, 761, 832, 837, 847, 852, 1593, 1613, 3498, 3632, 3637, 3943, 6066, 6078, 6096, 6120, 6631, 7017, 7018, 7031, 9122, 10164, 10224, 11471, 11563, 11904, 13210], 128: [186, 331, 752, 762, 766], 129: [209, 324, 840, 1783, 2117, 2118, 2275, 2278, 2299, 2344, 2353, 3687, 3952, 5048, 5356, 6472, 6619, 6738, 6849, 7374, 8521, 8534, 9416, 9593, 9771, 9826, 10302, 11185, 11437, 11483, 11762, 11958, 12060, 12142, 12148, 12870, 12995, 13053, 13491, 13496, 15011, 15140, 15205, 15382, 15456, 16021, 16147, 16197], 131: [142, 412, 563, 851], 134: [1074, 1119, 1307, 1320], 135: [183, 300, 1739, 1950, 2017, 3886], 136: [301], 138: [89], 139: [89], 140: [243, 2548], 141: [135, 152, 249, 295, 340, 469, 532, 627], 142: [1336, 1346, 1596, 1860, 2797, 3136, 3979, 4260, 4861, 4868, 4889, 4894, 5042, 5081, 5095, 5207, 5449, 6233, 6239, 6572], 145: [478, 873, 2384, 2842, 2859, 2861, 2927, 3275, 3294, 3487, 3658, 4252, 5000, 5615, 6469, 6703, 8194, 8972, 9254, 10045, 10148], 146: [127], 148: [43, 353], 150: [78, 483, 1046, 1951, 2221, 2913, 2970, 2990, 3756], 153: [701, 924, 1341, 1767, 1808, 1824, 2871, 3061, 3080, 4259, 4910, 4982, 5060, 5179, 5817, 5838, 7153], 154: [472, 559, 989, 1073, 1206, 1217, 1354, 1429, 1698, 2056, 2444, 2742, 3169, 3261, 3535, 3616], 155: [698, 2019], 156: [55, 315], 157: [55, 315, 545], 159: [202, 409], 160: [284, 338, 500, 1025], 161: [687], 162: [154, 599], 163: [154, 599], 164: [73], 169: [216, 222, 840, 875, 2069, 2274, 2279, 2381, 3666, 4023, 4083, 6003], 170: [1054, 1352, 1695, 1994], 171: [1762, 2052], 173: [487, 873], 174: [26, 346, 701, 714, 739, 760, 866, 1075, 1154, 1180, 1650, 2086, 2134], 175: [141, 146, 149, 740], 178: [25, 148, 153, 196, 280, 344], 180: [234], 182: [15], 183: [135, 161, 508, 538, 552, 1463, 1548, 1574, 1655, 1874, 2393, 2956, 3049, 3441, 4124, 4658, 4663, 4919, 5169, 5306, 5487, 6653, 6833], 185: [53], 188: [81], 189: [381, 582, 806, 934, 959], 190: [2, 147], 192: [179, 204], 193: [1836, 2472, 2821, 2911, 3467, 3807, 4015, 4397, 4482, 4973, 5423, 6017, 6339, 6509, 7040], 196: [173, 273, 666], 197: [75, 499, 615], 200: [705, 748], 201: [21, 389, 447, 666], 202: [836, 1705, 2670, 2736, 2835, 3211, 3918, 4035], 205: [121, 531], 206: [626, 859, 1002, 1329, 1733, 2599, 2936, 3236, 3745, 4073, 4902, 5806, 5814, 5863, 5990, 6189], 207: [388, 1258, 1455, 2094, 2745, 2860, 2997, 3517, 3631], 208: [120, 301], 209: [12], 210: [100, 352, 485, 524, 675, 831, 843, 860, 926, 1294, 1332, 1778, 1930], 212: [292, 452, 725, 1072, 1365, 1378], 214: [263, 333, 769, 1045, 1102, 1153, 1656, 2166, 2545, 3021, 3658, 3709, 4450, 4486, 4535, 4873, 5046, 5227, 6274, 7347, 7665, 8031, 8081, 8251, 8294, 8910, 9139, 10050, 10207, 11082, 11227, 11300, 11484, 11709, 11897, 11906, 12025, 12033, 12047, 12280, 12893, 12943, 13379, 13387, 13987, 14002, 14126, 14331, 15292, 15319, 15382, 15466, 15542, 15595, 15947, 16639, 18077, 18395, 18834, 18922, 19069, 19286, 19622, 19835, 20476, 21037, 21991, 22434, 22618, 23138, 23166, 23190, 23472, 23562, 23775, 23940, 24019, 24059, 24293, 24405, 24423, 27906, 28204, 29750, 29996, 30120, 30432, 30505, 30646, 30648, 31063, 31634, 32467, 33145, 33337, 33529, 33700, 34000, 35229, 35294, 35401, 35513, 35577, 35880, 36301, 37078, 37244, 37322, 38238, 38393, 38641, 41403, 42121, 42124, 42350, 42825, 42972, 43648, 44518, 46058, 47053, 47336, 47433, 47570, 47624, 48430], 219: [600, 602, 1267], 220: [452], 221: [505, 665, 906, 958, 4571, 6040, 6299, 6984, 7033, 7979, 9473, 9575, 9707], 224: [424, 480, 1063, 1080, 1934, 2281, 4056, 4165, 4178, 4183, 4293, 4491, 4813, 4866, 5778, 5861, 6143, 6227, 6234, 6972, 7468, 8460, 8744, 8865, 9127, 9162, 9266, 10026, 10604, 10816, 11056, 12266], 225: [712, 734, 735, 808, 937, 941, 1529, 2574, 2655, 2744, 2982, 3022, 3142, 4244, 4254, 4879, 4898, 5106, 6001, 6004, 6742, 7002, 7109, 9249, 9739, 9967, 10098, 10509, 12194, 12934, 13008, 13018, 13212, 13395, 15813, 17223, 17636, 18603, 18654, 19992, 20286, 20577, 20837, 21297, 21461, 21537, 22159, 22241, 23254, 23428, 23431, 24115, 24175, 24180, 25386, 26448, 27725], 226: [71, 442, 905, 999, 1018, 1644, 2363, 2404, 3280, 4474, 4725, 5819, 5973, 6877, 6984, 7043, 7365, 7964, 8335, 8460, 8619, 8857, 8968, 9258, 9580, 10347, 10800, 11101, 12314, 13198, 13532, 16110, 16191, 16250, 16675, 16746, 17275, 17286, 17292, 17303, 18154, 18155, 18158, 18533, 18535, 19240, 19500, 19501, 20559, 21886, 22933, 23638, 23937, 24318, 24405, 24454, 24654, 24853, 25528, 26263], 227: [67], 228: [806, 813, 1250], 229: [11], 230: [13, 623, 1487], 232: [22, 56, 65], 234: [49], 235: [270], 236: [174, 241, 359, 437, 776, 1447, 2151, 2452, 2496, 2612, 2628, 3165, 3557, 3728, 4137, 5285, 5602, 5718, 6021, 6027, 6698, 7006, 7387, 7400, 7450, 7465, 7635, 7716, 7718, 8072, 8165, 9051, 11136, 11796, 11821, 12090, 12443, 12660, 13930, 14720, 15627, 16267, 16716, 16728, 17377, 17446, 17870, 18441, 18459, 18465, 18490, 18599, 18884, 20089, 20923, 21929, 22035, 22235, 22392, 22409, 22507, 22577, 22620, 23087, 23181, 23199, 23390, 24677, 26473], 238: [365], 239: [13, 1394], 241: [798, 966], 242: [576, 701, 748, 752, 940, 1074], 244: [1168], 246: [205], 247: [656, 737], 248: [140, 185, 252, 430, 514], 249: [147], 250: [37], 251: [562, 567, 655], 252: [98, 1111, 2021, 5325, 5521, 5573, 5582, 5862, 5885, 6314, 6941, 7220, 7488, 7494, 7776, 7779, 8242], 256: [276], 257: [31, 790], 258: [390, 392, 612, 828, 834], 260: [469], 263: [335, 439], 264: [269, 299], 265: [79, 889, 1727, 2917], 267: [57, 92], 268: [513], 269: [164], 270: [331, 635, 638, 749, 1172, 1193, 1210, 1483, 1544, 1667, 1670, 1808, 2661, 2735, 3596, 3603, 3675, 3760, 3931, 4205, 4210, 4350, 4730, 4894, 5029, 5636, 6090, 6217, 6268, 6385, 6433, 6499, 6526], 271: [213], 272: [62], 273: [740, 778, 1488], 275: [174, 528], 278: [427, 1064, 1089, 1562, 1736, 1896, 2159, 2652], 280: [432], 283: [54, 381], 284: [438, 469, 516, 601, 690, 1432, 1693, 1820, 3062, 3627, 3663, 3666, 3767], 287: [338], 288: [32, 50, 167], 289: [21, 32], 290: [580, 832, 960], 291: [38], 295: [325], 296: [647, 743, 895, 976, 985, 1201, 1384], 298: [487, 859], 300: [165, 539], 301: [773], 302: [93, 219, 433], 307: [76, 550, 768, 773], 309: [19], 310: [359, 542, 961, 1115, 1378, 1878, 3616, 3915, 4446, 4449, 4584, 4661, 5201, 5521, 6334, 6692, 7003, 7008, 7271, 7318, 8203, 8214, 8355, 8427, 8941, 9021, 9798, 10187, 10639, 10748, 10750, 10896, 10971, 11224, 12109, 13248, 13298, 13496, 13822, 14025, 14377, 14521, 14931, 14940, 16096, 16299, 16395, 16533, 16566, 16608, 16930, 17571, 18200, 18321, 18410, 18460], 312: [560, 654, 916, 1272, 1847, 1876, 1962, 2017, 2200], 314: [35, 172, 303], 315: [163, 458, 490, 618, 916], 318: [186, 215], 319: [186, 215], 320: [1775, 2163, 2359, 2707], 321: [106, 294, 439, 548, 620, 1301, 1809], 322: [253, 1815], 330: [23, 26, 205], 331: [57], 332: [81, 137, 202, 271, 292, 296, 305, 330, 335, 430, 491], 333: [26, 70, 81, 122, 127, 466, 862, 954, 1977, 2196, 2925, 2989], 334: [545, 741], 340: [33], 341: [680], 346: [298], 347: [212], 349: [10, 1182, 1383], 356: [1648, 3887, 4201, 6784, 10424, 11348], 359: [425, 1030, 1049, 1051, 1053, 5236, 5950, 7662, 8309, 9892, 9895, 10597, 11908, 12735, 13649, 14610, 14873, 14965, 15153, 15166, 15173, 15206, 15830, 15839, 16508, 17492, 19599, 20343, 21528, 23481, 23997, 26436, 26683], 362: [173, 231, 659, 899], 364: [139, 578], 366: [8, 54, 519, 1758, 2551, 2671, 2753, 3935, 3942, 4374, 4575, 4744, 5069, 5071, 5961, 6512, 6816, 7024, 7207, 7608, 7674, 7693, 7764, 8015, 9497, 9552, 9553, 9624, 10207, 10533, 10728, 13642, 14039, 14192, 14265, 14688, 15060, 15830, 16788, 17370, 17391, 17511, 17772, 19718, 20112], 367: [31], 368: [792, 828, 942, 1132, 1433, 1689, 1745, 2511, 2572, 2898, 2905, 3352, 3660, 4254, 4302, 4447, 4477, 4480, 4784, 5011, 5073, 7547, 7602, 7648, 9266, 9306, 9396, 9697, 10482, 10794, 11031, 12885, 14346, 15094, 15158, 15287, 15323, 15337, 16164, 16183, 16285, 16491, 16710, 17089, 17171, 18585, 18884, 18995], 369: [39, 1419, 2422, 2482, 2697, 3672, 3736], 370: [468, 1260, 1565, 1976, 2067, 3976], 371: [606], 372: [434, 480], 373: [156], 375: [489, 493, 588, 637, 1239, 1267, 1388, 1410, 1888, 2032, 2052, 2466, 2869], 377: [444, 535, 602], 378: [1774, 2227, 2441, 2497, 2646, 2996, 3673, 3783, 4487, 4728, 5370, 5387, 6305, 7055, 7831, 8688, 8786, 8893, 10915, 10935, 11114, 11124, 11160, 11538, 11859, 12464, 13393, 13721, 13732, 13861, 14047, 15253, 16293, 16350, 16449, 16461, 16755, 17050, 17065, 17071, 17137, 17147, 17568, 18436, 18518, 18565, 18581, 18609, 18804, 19112, 19546, 19682, 19757, 19849, 19995, 20044, 20289, 20787, 22200, 24320, 25023, 27117, 27811, 27904, 28122, 28158, 28319, 28328, 28368, 28417, 28869, 29181, 29182], 379: [734], 380: [797, 2347, 2910, 2943, 3753], 382: [33, 116, 195, 382], 386: [389], 387: [389], 388: [301, 1132, 1137, 1530, 1852, 2526, 2528, 2621, 2855, 2926, 3024, 3138], 390: [217], 391: [239, 266, 848, 877, 2576, 2598, 2638, 3390, 4336, 4551], 392: [277], 393: [355, 369, 405, 596], 394: [464, 1029, 1240, 1405, 1443, 1585, 1863, 1938, 2329, 4034, 4039], 395: [325, 962, 1026, 1829, 2031, 2747], 396: [92], 398: [2, 68, 583], 399: [722], 402: [258, 512, 1186, 1422, 1439, 2370, 2386, 2479, 2629, 3182, 4049], 403: [186, 345, 381], 404: [74, 551], 406: [146, 736, 1066, 1071, 1076, 1081, 1730, 2311, 2312, 2314, 2317, 2634, 2904, 3030, 3113, 3134, 3540, 4097], 407: [920, 935, 1264, 1325, 1443, 2886, 3924, 4080, 4084], 408: [99, 262, 537, 1048], 410: [1289, 1357, 1407, 1496, 1675], 412: [23, 30], 413: [109, 114, 518, 552], 417: [298], 418: [1056, 1772, 1852, 1885, 4202, 5575, 6320, 8730, 9303, 11457, 11576, 14761, 15131, 15243], 419: [1072], 420: [444], 421: [27, 215], 425: [319], 431: [43], 433: [129, 971], 434: [544], 435: [2169, 2563, 3095, 3109, 3775, 6260, 6287, 6433, 6638, 8009, 8303, 8829, 9192, 9216, 10073, 10143, 10229, 10862, 10875, 10895, 11151, 14284, 15407, 21167, 21558, 21732, 21782, 21813, 22141, 22268, 22673, 23028, 23873, 24400, 24444, 24644, 24742, 25138, 25507, 25799, 26043, 26239, 26313, 26456, 26649, 26797, 27071, 27096, 27416, 27458, 27829, 27907, 27912, 28016, 28116, 28127, 28529, 29031, 29215, 29372, 29507, 29888, 30143, 30185, 30326, 30707, 31788, 31940, 32421, 32927, 33278, 34863, 35026, 35059, 35169, 35350, 35448, 35984, 36571, 36740, 36766, 37145, 37339, 37833, 38419, 39207, 39255, 40460, 41308, 41577, 41752, 41855, 42128, 43519, 43819, 44110, 44548, 45161, 47066, 47299, 47314, 48032, 48047, 49221, 49475, 51003, 51262, 51368, 51386, 52544, 52588, 53857, 54728, 55934, 58934, 58948], 436: [28], 441: [265, 587, 702, 779, 2063, 2065, 2403, 2508, 2602, 2622, 2894, 2921, 3174, 3319, 3338, 5064, 5095], 442: [106, 256, 361, 840, 1007, 1049, 1143], 444: [64, 65], 448: [88], 450: [491, 607, 1378, 1510, 1602, 1990, 2140, 2143, 2679, 3884, 3934, 4193, 5840, 6015, 6207, 6361], 451: [400, 588, 768, 907, 1625, 2408, 3478, 4124], 452: [29, 258, 419, 714, 937], 453: [53], 454: [355, 465], 455: [75, 78, 822, 899, 2871, 2953, 3587], 456: [231, 251, 1059, 1094], 457: [393, 1972], 458: [67, 1064, 1119, 1346], 460: [169, 348, 887], 461: [276, 1076, 1285, 1456, 1703], 462: [242, 311, 469, 1834], 463: [62, 785, 2099], 464: [308, 950, 1084, 1192], 465: [179], 466: [371, 1715, 1744, 1745, 1746, 2035, 2720, 2727, 3366]}]\n"
          ],
          "name": "stdout"
        }
      ]
    },
    {
      "cell_type": "code",
      "metadata": {
        "id": "MRnP6637zs0W",
        "colab": {
          "base_uri": "https://localhost:8080/"
        },
        "outputId": "be1359f5-ed43-4a6e-c12f-a7ed4913c873"
      },
      "source": [
        "test_phrase = \"100 west by 53 north\"\n",
        "preprocessed_text = preprocess(test_phrase, False)\n",
        "print(preprocessed_text)\n",
        "test_phrase_lemmat = [lemmatizer.lemmatize(each_word) for each_word in word_tokenize(str(preprocessed_text))]\n",
        "# test_phrase_lemmat =  word_tokenize(str(preprocessed_text))\n",
        "print(test_phrase_lemmat)\n",
        "result = {}\n",
        "count = 0"
      ],
      "execution_count": null,
      "outputs": [
        {
          "output_type": "stream",
          "text": [
            " one hundred west fifty three north\n",
            "['one', 'hundred', 'west', 'fifty', 'three', 'north']\n"
          ],
          "name": "stdout"
        }
      ]
    },
    {
      "cell_type": "code",
      "metadata": {
        "id": "K5x2bHX4zs5S"
      },
      "source": [
        "for item in test_phrase_lemmat :\n",
        "    \n",
        "    my_dictionary = pos_index[item][1]\n",
        "    \n",
        "    if len(result) == 0 :\n",
        "        result = my_dictionary\n",
        "    else:\n",
        "        document_list = list(set(result.keys()) & set(my_dictionary.keys()))\n",
        "        temp = {}\n",
        "        \n",
        "        for doc in document_list :\n",
        "            temp[doc] = result[doc]    \n",
        "        result = {}    \n",
        "        result = temp\n",
        "        if len(document_list) == 0:\n",
        "            print(\"No documents\")\n",
        "            break\n",
        "        \n",
        "        for doc in document_list :\n",
        "            \n",
        "            list_posting = result[doc]\n",
        "            temp_pos = []\n",
        "            \n",
        "            for pos in list_posting:\n",
        "                \n",
        "                if pos+count in my_dictionary[doc]:\n",
        "                    temp_pos.append(pos)\n",
        "            \n",
        "            result[doc] = temp_pos\n",
        "            \n",
        "            if len(result[doc]) == 0 :\n",
        "                del result[doc]\n",
        "        \n",
        "    count = count + 1"
      ],
      "execution_count": null,
      "outputs": []
    },
    {
      "cell_type": "code",
      "metadata": {
        "colab": {
          "base_uri": "https://localhost:8080/"
        },
        "id": "T06Pj5Jqz8Zi",
        "outputId": "ac752780-8492-441c-ac08-b71fd1d7241f"
      },
      "source": [
        "# Length of documents retrived\n",
        "print(\"Number of Documents retrived are :\" ,len(result))"
      ],
      "execution_count": null,
      "outputs": [
        {
          "output_type": "stream",
          "text": [
            "Number of Documents retrived are : 1\n"
          ],
          "name": "stdout"
        }
      ]
    },
    {
      "cell_type": "code",
      "metadata": {
        "colab": {
          "base_uri": "https://localhost:8080/"
        },
        "id": "TBoAsrjdlwTG",
        "outputId": "258a0900-8d55-4fea-b4b3-ff924e01f868"
      },
      "source": [
        "for id in list(result.keys()):\n",
        "  print(dataset[id][0].split('/')[6:])"
      ],
      "execution_count": null,
      "outputs": [
        {
          "output_type": "stream",
          "text": [
            "['stories', '100west.txt']\n"
          ],
          "name": "stdout"
        }
      ]
    },
    {
      "cell_type": "code",
      "metadata": {
        "colab": {
          "base_uri": "https://localhost:8080/"
        },
        "id": "ER8fyF5mhw3L",
        "outputId": "fa01dcf8-39f9-4a65-d08b-255e1dd26f78"
      },
      "source": [
        "result"
      ],
      "execution_count": null,
      "outputs": [
        {
          "output_type": "execute_result",
          "data": {
            "text/plain": [
              "{15: [33]}"
            ]
          },
          "metadata": {
            "tags": []
          },
          "execution_count": 21
        }
      ]
    },
    {
      "cell_type": "code",
      "metadata": {
        "id": "TAGAYGm7ip3A",
        "colab": {
          "base_uri": "https://localhost:8080/"
        },
        "outputId": "0936b4b8-7072-4794-eb56-36556c7e0e1f"
      },
      "source": [
        "print_doc(15)"
      ],
      "execution_count": null,
      "outputs": [
        {
          "output_type": "stream",
          "text": [
            "('/content/gdrive/My Drive/InformationRetrieval/Assignment_1/stories/6ablemen.txt', 'The Story of the Six Able Men')\n",
            "SIX ABLE MEN  \n",
            "\n",
            "   Once upon a time there lived a young soldier named Martin who had enlisted \n",
            "in the royal army to flght a war. The war was long but victorious and when the\n",
            "King abandoned the enemy's territory and returned with his troops to the \n",
            "homeland, he left Martin to guard the only bridge on the river that separated \n",
            "the two nations.\n",
            "   \"Stay on watch on the bridge,\" the King ordered. \"Don't let any enemy \n",
            "soldier go by.\" Days and then months passed, and the soldier kept his watch on\n",
            "the bridge. He survived by asking the passers-by for food and, after two \n",
            "years, thought that the authorities had probably forgotten him. He then headed\n",
            "towards the capital, where he would ask the King for all his back pay. His \n",
            "pockets were empty and his only possessions were a pipe, a bit of tobacco and \n",
            "his sword.\n",
            "   A couple of days later he arrived in a valley where a stream crossed his \n",
            "path. A big man with hands as big as hams, large shoulders and a bull's neck \n",
            "was sitting by the stream. The man, who had a strangely soft and kind voice, \n",
            "asked him:\n",
            "   \"Would you like to cross the stream?\" The soldier couldn't ask for more. \n",
            "The man effortlessly uprooted a huge tree and laid it across the stream. \n",
            "Martin offered the man some of his tobacco in return and when he found out \n",
            "that the man had nothing to do, Martin asked him to come along.\n",
            "   \"You'll see all the things we can do together!\"\n",
            "   They had just begun walking away when they met a hunter who was aiming his \n",
            "rifle at a faraway hill.\n",
            "   \"What are you aiming at?\"\n",
            "   \"Do you see that cobweb on that tree on top of the hill?\" the hunter asked.\n",
            "\"I want to get the spider!\" The hunter shot and when the three men got to the \n",
            "top of the hill they found a big hole in the middle of the cobweb and no more \n",
            "spider. Martin had never seen anyone shoot that well and he asked the hunter \n",
            "to join them. \n",
            "   \"Come with us and you'll be in luck!\" The three men walked and walked until\n",
            "they arrived at a windmill. The wheel of the mill was turning even though \n",
            "there was no wind. The men were puzzled but further up the road they found a \n",
            "fat man sitting on a tree stump. The man was blowing through one of his \n",
            "nostrils in the mill's direction. The fat man explained to the three amazed \n",
            "fellow travellers that his strength was such that he could sneeze up a \n",
            "hurricane. The soldier convinced him to follow them. As they approached the \n",
            "city, they were approached by a man who hopped about with his legs tied \n",
            "together.\n",
            "   \"Who tied you up?\" they asked in unison.\n",
            "   \"I did it myself,\" the man, who was very young and very thin, answered. \"If\n",
            "I untied myself I would run as fast as the wind and would not enjoy the \n",
            "sights.\" And so it was that even this character, nicknamed Fastfoot by the \n",
            "others, joined the group. \n",
            "   But the surprises of that extraordinary day were far from over. A little \n",
            "man with a round face sat under a tree. He held his hat over his left ear. \"If\n",
            "I straighten my hat,\" he explained, \"I will freeze everything around me.\" \n",
            "Naturally, everybody took his word for it and the stranger was asked to join \n",
            "the group. The bizarre company finally arrived at the city. A public notice \n",
            "was hung outside the city walls. The princess announced that whoever would \n",
            "beat her in a race could marry her. \n",
            "   The soldier dusted his uniform, cleaned himself up after the long trip and \n",
            "ran to the palace. He wanted to challenge the princess but said that one of \n",
            "his servants would run in his place. The princess accepted his challenge. The \n",
            "morning after, at the starting line, Fastfoot untied his legs and took off \n",
            "like a rocket. Each one of the contestants had a jug that had to be filled at \n",
            "a nearby stream and brought back full to the finish line. On his way back, \n",
            "Fastfoot stopped to pick a flower and after carefully setting the jug on the \n",
            "ground and realizing that the princess was still far away, he decided to lie \n",
            "down and rest for a while. Unfortunately, he fell asleep.\n",
            "   Later on, when the princess caught up with him and saw that he had fallen \n",
            "asleep, she kicked down his jug and ran away. She was sure of her victory. \n",
            "From far away the sharp sighted hunter shot and hit a spot near Fastfoot's \n",
            "ear. Fastfoot woke up all of a sudden and saw the princess approaching the \n",
            "finish line. He quickly ran back to the stream, filled the jug and reached the\n",
            "finish line as fast as lightning. The King was furious. He would never let his\n",
            "daughter marry a miserable soldier.\n",
            "   He invited the unsuspecting Martin to the palace. Martin told him about his\n",
            "two years watching over the river, which made the King ever angrier. The King,\n",
            "however, pretended to feel guilty and invited the soldier and his friends to a\n",
            "banquet in a strange dining room. In fact the dining room was lined with iron \n",
            "walls and was built over a huge furnace. The King ordered his men to seal the \n",
            "dining room's door and to light the furnace. Then he proceeded to watch the \n",
            "slow death of the group through an unbreakable glass. The six men began eating\n",
            "but suddenly felt the floor grow very hot, while the room's temperature \n",
            "rapidly increased.\n",
            "   But Martin did not lose his head. He straightened the hat of the round \n",
            "faced little man and pretty soon they were all shivering from the cold. The \n",
            "King uselessly urged his men to throw more and more wood in the furnace, but \n",
            "the soldier and his fnends had found a remedy to the King's wickedness. No one\n",
            "had ever come out of this torture chamber alive, but this time the King had to\n",
            "accept defeat, even though he was still determined not to let his daughter go.\n",
            "He offered the soldier a large sum of money as long as he gave up the wedding.\n",
            "   \"I will fill you a bag of gold and other riches if you forget the wedding.\"\n",
            "   \"That's fine with me,\" Martin said, \"and I accept your offer but as long as\n",
            "I pick the bag and the man who will carry it away.\" The poor King was unaware \n",
            "of the strength of one of the six friends. When he began filling the sack, all\n",
            "of his gold was not enough to fill it. Martin and his friends were rich. When \n",
            "they left court, the King had become very poor.\n",
            "   The monarch lost his temper and realized the soldier had fooled him. He \n",
            "called the army commander and ordered two battalions to chase Martin. \"Bring \n",
            "them back dead or alive and at all costs!\" Later on, the soldiers caught up \n",
            "with the six young men and surrounded them.\n",
            "   \"Give us back the gold and surrender,\" they demanded. But the fattest of the\n",
            "men began blowing so hard that horses and soldiers were carried away. In just a\n",
            "few minutes the wounded soldiers were scattered all over the plain and the\n",
            "battalions were no longer a threat to the six extraordinary friends who \n",
            "continued their journey. \n",
            "   Then they divided the gold and jewels in equal parts and each one of them \n",
            "went his own separate way. Martin crossed the bridge where he had been on \n",
            "watch for so long without any reward and never turned back again.\n"
          ],
          "name": "stdout"
        }
      ]
    }
  ]
}